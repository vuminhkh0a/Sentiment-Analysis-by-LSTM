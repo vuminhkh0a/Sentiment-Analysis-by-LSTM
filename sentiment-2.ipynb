{
 "cells": [
  {
   "cell_type": "code",
   "execution_count": 1,
   "id": "88d45476",
   "metadata": {
    "execution": {
     "iopub.execute_input": "2025-05-31T10:56:07.736442Z",
     "iopub.status.busy": "2025-05-31T10:56:07.736201Z",
     "iopub.status.idle": "2025-05-31T10:56:07.739969Z",
     "shell.execute_reply": "2025-05-31T10:56:07.739276Z"
    },
    "papermill": {
     "duration": 0.009113,
     "end_time": "2025-05-31T10:56:07.741156",
     "exception": false,
     "start_time": "2025-05-31T10:56:07.732043",
     "status": "completed"
    },
    "tags": []
   },
   "outputs": [],
   "source": [
    "#!pip install nltk"
   ]
  },
  {
   "cell_type": "code",
   "execution_count": 2,
   "id": "631db1ab",
   "metadata": {
    "_cell_guid": "b1076dfc-b9ad-4769-8c92-a6c4dae69d19",
    "_uuid": "8f2839f25d086af736a60e9eeb907d3b93b6e0e5",
    "execution": {
     "iopub.execute_input": "2025-05-31T10:56:07.747287Z",
     "iopub.status.busy": "2025-05-31T10:56:07.747092Z",
     "iopub.status.idle": "2025-05-31T10:56:48.076855Z",
     "shell.execute_reply": "2025-05-31T10:56:48.076132Z"
    },
    "papermill": {
     "duration": 40.337128,
     "end_time": "2025-05-31T10:56:48.081133",
     "exception": false,
     "start_time": "2025-05-31T10:56:07.744005",
     "status": "completed"
    },
    "tags": []
   },
   "outputs": [
    {
     "name": "stderr",
     "output_type": "stream",
     "text": [
      "[nltk_data] Error loading stopwords: <urlopen error [Errno -3]\n",
      "[nltk_data]     Temporary failure in name resolution>\n"
     ]
    }
   ],
   "source": [
    "import torch\n",
    "import torch.nn as nn\n",
    "from torch.utils.data import DataLoader, TensorDataset\n",
    "\n",
    "import numpy as np\n",
    "import pandas as pd\n",
    "import seaborn as sns\n",
    "import nltk\n",
    "from nltk.corpus import stopwords\n",
    "from nltk.stem.snowball import SnowballStemmer\n",
    "nltk.download('stopwords')\n",
    "import re\n",
    "from sklearn.model_selection import train_test_split\n",
    "from sklearn.metrics import classification_report\n",
    "\n",
    "from collections import Counter"
   ]
  },
  {
   "cell_type": "code",
   "execution_count": 3,
   "id": "bf54cba5",
   "metadata": {
    "execution": {
     "iopub.execute_input": "2025-05-31T10:56:48.088098Z",
     "iopub.status.busy": "2025-05-31T10:56:48.087716Z",
     "iopub.status.idle": "2025-05-31T10:56:54.306364Z",
     "shell.execute_reply": "2025-05-31T10:56:54.305679Z"
    },
    "papermill": {
     "duration": 6.223496,
     "end_time": "2025-05-31T10:56:54.307631",
     "exception": false,
     "start_time": "2025-05-31T10:56:48.084135",
     "status": "completed"
    },
    "tags": []
   },
   "outputs": [
    {
     "data": {
      "text/html": [
       "<div>\n",
       "<style scoped>\n",
       "    .dataframe tbody tr th:only-of-type {\n",
       "        vertical-align: middle;\n",
       "    }\n",
       "\n",
       "    .dataframe tbody tr th {\n",
       "        vertical-align: top;\n",
       "    }\n",
       "\n",
       "    .dataframe thead th {\n",
       "        text-align: right;\n",
       "    }\n",
       "</style>\n",
       "<table border=\"1\" class=\"dataframe\">\n",
       "  <thead>\n",
       "    <tr style=\"text-align: right;\">\n",
       "      <th></th>\n",
       "      <th>label</th>\n",
       "      <th>text</th>\n",
       "    </tr>\n",
       "  </thead>\n",
       "  <tbody>\n",
       "    <tr>\n",
       "      <th>0</th>\n",
       "      <td>0</td>\n",
       "      <td>@switchfoot http://twitpic.com/2y1zl - Awww, t...</td>\n",
       "    </tr>\n",
       "    <tr>\n",
       "      <th>1</th>\n",
       "      <td>0</td>\n",
       "      <td>is upset that he can't update his Facebook by ...</td>\n",
       "    </tr>\n",
       "    <tr>\n",
       "      <th>2</th>\n",
       "      <td>0</td>\n",
       "      <td>@Kenichan I dived many times for the ball. Man...</td>\n",
       "    </tr>\n",
       "    <tr>\n",
       "      <th>3</th>\n",
       "      <td>0</td>\n",
       "      <td>my whole body feels itchy and like its on fire</td>\n",
       "    </tr>\n",
       "    <tr>\n",
       "      <th>4</th>\n",
       "      <td>0</td>\n",
       "      <td>@nationwideclass no, it's not behaving at all....</td>\n",
       "    </tr>\n",
       "  </tbody>\n",
       "</table>\n",
       "</div>"
      ],
      "text/plain": [
       "   label                                               text\n",
       "0      0  @switchfoot http://twitpic.com/2y1zl - Awww, t...\n",
       "1      0  is upset that he can't update his Facebook by ...\n",
       "2      0  @Kenichan I dived many times for the ball. Man...\n",
       "3      0    my whole body feels itchy and like its on fire \n",
       "4      0  @nationwideclass no, it's not behaving at all...."
      ]
     },
     "execution_count": 3,
     "metadata": {},
     "output_type": "execute_result"
    }
   ],
   "source": [
    "df = pd.read_csv('/kaggle/input/sentiment140/training.1600000.processed.noemoticon.csv', encoding='latin', names=['label', 'id', 'date', 'query', 'name', 'text'])\n",
    "df = df.drop(columns=['id', 'date', 'query', 'name'])\n",
    "df.head()"
   ]
  },
  {
   "cell_type": "code",
   "execution_count": 4,
   "id": "c9911d4b",
   "metadata": {
    "execution": {
     "iopub.execute_input": "2025-05-31T10:56:54.314953Z",
     "iopub.status.busy": "2025-05-31T10:56:54.314517Z",
     "iopub.status.idle": "2025-05-31T10:56:54.541480Z",
     "shell.execute_reply": "2025-05-31T10:56:54.540750Z"
    },
    "papermill": {
     "duration": 0.231719,
     "end_time": "2025-05-31T10:56:54.542744",
     "exception": false,
     "start_time": "2025-05-31T10:56:54.311025",
     "status": "completed"
    },
    "tags": []
   },
   "outputs": [
    {
     "data": {
      "text/plain": [
       "Text(0.5, 1.0, 'Data distribution')"
      ]
     },
     "execution_count": 4,
     "metadata": {},
     "output_type": "execute_result"
    },
    {
     "data": {
      "image/png": "[encoded data removed]",
      "text/plain": [
       "<Figure size 640x480 with 1 Axes>"
      ]
     },
     "metadata": {},
     "output_type": "display_data"
    }
   ],
   "source": [
    "value_counts = df['label'].value_counts().reset_index()\n",
    "value_counts = value_counts.replace({0:'Negative', 4:'Positive'})\n",
    "\n",
    "sns.barplot(data=value_counts, x='label', y='count').set_title('Data distribution')"
   ]
  },
  {
   "cell_type": "code",
   "execution_count": 5,
   "id": "c28d7212",
   "metadata": {
    "execution": {
     "iopub.execute_input": "2025-05-31T10:56:54.550206Z",
     "iopub.status.busy": "2025-05-31T10:56:54.549971Z",
     "iopub.status.idle": "2025-05-31T11:22:50.810168Z",
     "shell.execute_reply": "2025-05-31T11:22:50.809300Z"
    },
    "papermill": {
     "duration": 1556.2656,
     "end_time": "2025-05-31T11:22:50.811762",
     "exception": false,
     "start_time": "2025-05-31T10:56:54.546162",
     "status": "completed"
    },
    "tags": []
   },
   "outputs": [],
   "source": [
    "re_word = r'@\\S+|https?://\\S+|[^A-Za-z0-9]+'\n",
    "stemmer = SnowballStemmer(language='english')\n",
    "\n",
    "def tokenizer(text, stem=False):\n",
    "    text = re.sub(re_word, ' ', str(text).lower()).strip()\n",
    "    tokens = []\n",
    "    for word in text.split():\n",
    "        if word not in stopwords.words('english'):\n",
    "            tokens.append(stemmer.stem(word) if stem else word)\n",
    "    return tokens\n",
    "\n",
    "df['tokens'] = df['text'].apply(lambda x : tokenizer(x))"
   ]
  },
  {
   "cell_type": "code",
   "execution_count": 6,
   "id": "63f78541",
   "metadata": {
    "execution": {
     "iopub.execute_input": "2025-05-31T11:22:50.819694Z",
     "iopub.status.busy": "2025-05-31T11:22:50.819246Z",
     "iopub.status.idle": "2025-05-31T11:22:57.303707Z",
     "shell.execute_reply": "2025-05-31T11:22:57.302997Z"
    },
    "papermill": {
     "duration": 6.489787,
     "end_time": "2025-05-31T11:22:57.305328",
     "exception": false,
     "start_time": "2025-05-31T11:22:50.815541",
     "status": "completed"
    },
    "tags": []
   },
   "outputs": [],
   "source": [
    "counter = Counter(token for tokens in df['text'] for token in tokens.split())\n",
    "vocab_tokens = ['<pad>', '<unk>'] + sorted(counter)\n",
    "vocab = {token: id for id, token in enumerate(vocab_tokens)}\n",
    "\n",
    "def get_id(token):\n",
    "    return vocab.get(token, vocab['<unk>'])"
   ]
  },
  {
   "cell_type": "code",
   "execution_count": 7,
   "id": "c79ff8e2",
   "metadata": {
    "execution": {
     "iopub.execute_input": "2025-05-31T11:22:57.317179Z",
     "iopub.status.busy": "2025-05-31T11:22:57.316681Z",
     "iopub.status.idle": "2025-05-31T11:23:10.742007Z",
     "shell.execute_reply": "2025-05-31T11:23:10.741161Z"
    },
    "papermill": {
     "duration": 13.432177,
     "end_time": "2025-05-31T11:23:10.743440",
     "exception": false,
     "start_time": "2025-05-31T11:22:57.311263",
     "status": "completed"
    },
    "tags": []
   },
   "outputs": [],
   "source": [
    "max_len = 100\n",
    "\n",
    "def pad(tokens):\n",
    "    id = [get_id(token) for token in tokens]\n",
    "    if len(id) < max_len:\n",
    "        id += [vocab['<pad>']] * (max_len - len(id))\n",
    "    else:\n",
    "        id = id[:max_len]\n",
    "    return id\n",
    "df['input_id'] = df['tokens'].apply(pad)"
   ]
  },
  {
   "cell_type": "code",
   "execution_count": 8,
   "id": "815d76df",
   "metadata": {
    "execution": {
     "iopub.execute_input": "2025-05-31T11:23:10.751223Z",
     "iopub.status.busy": "2025-05-31T11:23:10.750779Z",
     "iopub.status.idle": "2025-05-31T11:23:10.776822Z",
     "shell.execute_reply": "2025-05-31T11:23:10.776069Z"
    },
    "papermill": {
     "duration": 0.03116,
     "end_time": "2025-05-31T11:23:10.778156",
     "exception": false,
     "start_time": "2025-05-31T11:23:10.746996",
     "status": "completed"
    },
    "tags": []
   },
   "outputs": [
    {
     "data": {
      "text/plain": [
       "array([0, 0, 0, ..., 1, 1, 1])"
      ]
     },
     "execution_count": 8,
     "metadata": {},
     "output_type": "execute_result"
    }
   ],
   "source": [
    "df['label'] = df['label'].map({0:0, 4:1})\n",
    "df.label.values"
   ]
  },
  {
   "cell_type": "code",
   "execution_count": 9,
   "id": "5b8c2e9c",
   "metadata": {
    "execution": {
     "iopub.execute_input": "2025-05-31T11:23:10.785661Z",
     "iopub.status.busy": "2025-05-31T11:23:10.785407Z",
     "iopub.status.idle": "2025-05-31T11:23:10.796431Z",
     "shell.execute_reply": "2025-05-31T11:23:10.795825Z"
    },
    "papermill": {
     "duration": 0.01592,
     "end_time": "2025-05-31T11:23:10.797485",
     "exception": false,
     "start_time": "2025-05-31T11:23:10.781565",
     "status": "completed"
    },
    "tags": []
   },
   "outputs": [
    {
     "data": {
      "text/html": [
       "<div>\n",
       "<style scoped>\n",
       "    .dataframe tbody tr th:only-of-type {\n",
       "        vertical-align: middle;\n",
       "    }\n",
       "\n",
       "    .dataframe tbody tr th {\n",
       "        vertical-align: top;\n",
       "    }\n",
       "\n",
       "    .dataframe thead th {\n",
       "        text-align: right;\n",
       "    }\n",
       "</style>\n",
       "<table border=\"1\" class=\"dataframe\">\n",
       "  <thead>\n",
       "    <tr style=\"text-align: right;\">\n",
       "      <th></th>\n",
       "      <th>label</th>\n",
       "      <th>text</th>\n",
       "      <th>tokens</th>\n",
       "      <th>input_id</th>\n",
       "    </tr>\n",
       "  </thead>\n",
       "  <tbody>\n",
       "    <tr>\n",
       "      <th>0</th>\n",
       "      <td>0</td>\n",
       "      <td>@switchfoot http://twitpic.com/2y1zl - Awww, t...</td>\n",
       "      <td>[awww, bummer, shoulda, got, david, carr, thir...</td>\n",
       "      <td>[775317, 808408, 1210141, 928412, 852845, 8165...</td>\n",
       "    </tr>\n",
       "    <tr>\n",
       "      <th>1</th>\n",
       "      <td>0</td>\n",
       "      <td>is upset that he can't update his Facebook by ...</td>\n",
       "      <td>[upset, update, facebook, texting, might, cry,...</td>\n",
       "      <td>[1295093, 1294447, 894112, 1255372, 1091738, 8...</td>\n",
       "    </tr>\n",
       "    <tr>\n",
       "      <th>2</th>\n",
       "      <td>0</td>\n",
       "      <td>@Kenichan I dived many times for the ball. Man...</td>\n",
       "      <td>[dived, many, times, ball, managed, save, 50, ...</td>\n",
       "      <td>[866091, 1081280, 1265709, 780480, 1080326, 11...</td>\n",
       "    </tr>\n",
       "    <tr>\n",
       "      <th>3</th>\n",
       "      <td>0</td>\n",
       "      <td>my whole body feels itchy and like its on fire</td>\n",
       "      <td>[whole, body, feels, itchy, like, fire]</td>\n",
       "      <td>[1316826, 797336, 899355, 1039226, 1065384, 90...</td>\n",
       "    </tr>\n",
       "    <tr>\n",
       "      <th>4</th>\n",
       "      <td>0</td>\n",
       "      <td>@nationwideclass no, it's not behaving at all....</td>\n",
       "      <td>[behaving, mad, see]</td>\n",
       "      <td>[787580, 1077412, 1201333, 0, 0, 0, 0, 0, 0, 0...</td>\n",
       "    </tr>\n",
       "  </tbody>\n",
       "</table>\n",
       "</div>"
      ],
      "text/plain": [
       "   label                                               text  \\\n",
       "0      0  @switchfoot http://twitpic.com/2y1zl - Awww, t...   \n",
       "1      0  is upset that he can't update his Facebook by ...   \n",
       "2      0  @Kenichan I dived many times for the ball. Man...   \n",
       "3      0    my whole body feels itchy and like its on fire    \n",
       "4      0  @nationwideclass no, it's not behaving at all....   \n",
       "\n",
       "                                              tokens  \\\n",
       "0  [awww, bummer, shoulda, got, david, carr, thir...   \n",
       "1  [upset, update, facebook, texting, might, cry,...   \n",
       "2  [dived, many, times, ball, managed, save, 50, ...   \n",
       "3            [whole, body, feels, itchy, like, fire]   \n",
       "4                               [behaving, mad, see]   \n",
       "\n",
       "                                            input_id  \n",
       "0  [775317, 808408, 1210141, 928412, 852845, 8165...  \n",
       "1  [1295093, 1294447, 894112, 1255372, 1091738, 8...  \n",
       "2  [866091, 1081280, 1265709, 780480, 1080326, 11...  \n",
       "3  [1316826, 797336, 899355, 1039226, 1065384, 90...  \n",
       "4  [787580, 1077412, 1201333, 0, 0, 0, 0, 0, 0, 0...  "
      ]
     },
     "execution_count": 9,
     "metadata": {},
     "output_type": "execute_result"
    }
   ],
   "source": [
    "df.head()"
   ]
  },
  {
   "cell_type": "code",
   "execution_count": 10,
   "id": "c918d63f",
   "metadata": {
    "execution": {
     "iopub.execute_input": "2025-05-31T11:23:10.805814Z",
     "iopub.status.busy": "2025-05-31T11:23:10.805404Z",
     "iopub.status.idle": "2025-05-31T11:23:25.422741Z",
     "shell.execute_reply": "2025-05-31T11:23:25.422187Z"
    },
    "papermill": {
     "duration": 14.623099,
     "end_time": "2025-05-31T11:23:25.424104",
     "exception": false,
     "start_time": "2025-05-31T11:23:10.801005",
     "status": "completed"
    },
    "tags": []
   },
   "outputs": [],
   "source": [
    "input_id = df['input_id'].to_list()\n",
    "label = df['label'].to_list()\n",
    "\n",
    "x_train, x_tmp, y_train, y_tmp = train_test_split(input_id, label, test_size=0.2, random_state=42)\n",
    "x_dev, x_test, y_dev, y_test = train_test_split(x_tmp, y_tmp, test_size=0.5, random_state=42)\n",
    "\n",
    "train_dataset = TensorDataset(torch.tensor(x_train, dtype=torch.long), torch.tensor(y_train, dtype=torch.long))\n",
    "dev_dataset = TensorDataset(torch.tensor(x_dev, dtype=torch.long), torch.tensor(y_dev, dtype=torch.long))\n",
    "test_dataset = TensorDataset(torch.tensor(x_test, dtype=torch.long), torch.tensor(y_test, dtype=torch.long))\n",
    "\n",
    "train_loader = DataLoader(train_dataset, batch_size=256, shuffle=True, num_workers=4, pin_memory=True)\n",
    "dev_loader = DataLoader(dev_dataset, batch_size=256, shuffle=False, num_workers=4, pin_memory=True)\n",
    "test_loader = DataLoader(test_dataset, batch_size=256, shuffle=False, num_workers=4, pin_memory=True)\n"
   ]
  },
  {
   "cell_type": "code",
   "execution_count": 11,
   "id": "1a23a9cd",
   "metadata": {
    "execution": {
     "iopub.execute_input": "2025-05-31T11:23:25.431760Z",
     "iopub.status.busy": "2025-05-31T11:23:25.431545Z",
     "iopub.status.idle": "2025-05-31T11:23:25.437314Z",
     "shell.execute_reply": "2025-05-31T11:23:25.436520Z"
    },
    "papermill": {
     "duration": 0.010663,
     "end_time": "2025-05-31T11:23:25.438340",
     "exception": false,
     "start_time": "2025-05-31T11:23:25.427677",
     "status": "completed"
    },
    "tags": []
   },
   "outputs": [],
   "source": [
    "class LSTM_model(nn.Module):\n",
    "    def __init__(self, vocab_size=len(vocab), embed_dim=300, hidden_dim=32, output_dim=1, pad_idx=0):\n",
    "        super(LSTM_model, self).__init__()\n",
    "        self.embedding = nn.Embedding(num_embeddings=vocab_size, embedding_dim=embed_dim, padding_idx=pad_idx)\n",
    "        self.lstm = nn.LSTM(input_size=embed_dim, hidden_size=hidden_dim, num_layers=2, batch_first=True, bidirectional=True)\n",
    "        self.dropout = nn.Dropout(0.7)\n",
    "        self.fc = nn.Linear(hidden_dim * 2, output_dim) \n",
    "\n",
    "    def forward(self, x):                               \n",
    "        embedded = self.embedding(x)                    \n",
    "        lstm_out, (hidden, _) = self.lstm(embedded)     \n",
    "        hidden = torch.cat((hidden[-2], hidden[-1]), dim=1)  \n",
    "        hidden = self.dropout(hidden)\n",
    "        output = self.fc(hidden)\n",
    "        return output.squeeze(1)  "
   ]
  },
  {
   "cell_type": "code",
   "execution_count": 12,
   "id": "e2b02373",
   "metadata": {
    "execution": {
     "iopub.execute_input": "2025-05-31T11:23:25.445450Z",
     "iopub.status.busy": "2025-05-31T11:23:25.445255Z",
     "iopub.status.idle": "2025-05-31T11:23:29.761249Z",
     "shell.execute_reply": "2025-05-31T11:23:29.760386Z"
    },
    "papermill": {
     "duration": 4.320844,
     "end_time": "2025-05-31T11:23:29.762454",
     "exception": false,
     "start_time": "2025-05-31T11:23:25.441610",
     "status": "completed"
    },
    "tags": []
   },
   "outputs": [
    {
     "name": "stdout",
     "output_type": "stream",
     "text": [
      "cuda\n"
     ]
    }
   ],
   "source": [
    "device = torch.device(\"cuda\" if torch.cuda.is_available() else \"cpu\")\n",
    "model = LSTM_model().to(device)\n",
    "print(device)"
   ]
  },
  {
   "cell_type": "code",
   "execution_count": 13,
   "id": "9266a8ca",
   "metadata": {
    "execution": {
     "iopub.execute_input": "2025-05-31T11:23:29.770259Z",
     "iopub.status.busy": "2025-05-31T11:23:29.770027Z",
     "iopub.status.idle": "2025-05-31T11:23:34.146629Z",
     "shell.execute_reply": "2025-05-31T11:23:34.146117Z"
    },
    "papermill": {
     "duration": 4.381876,
     "end_time": "2025-05-31T11:23:34.147922",
     "exception": false,
     "start_time": "2025-05-31T11:23:29.766046",
     "status": "completed"
    },
    "tags": []
   },
   "outputs": [],
   "source": [
    "epochs = 20\n",
    "criterion = nn.BCEWithLogitsLoss()\n",
    "optimizer = torch.optim.AdamW(model.parameters(), lr=0.001, weight_decay=0.07)"
   ]
  },
  {
   "cell_type": "code",
   "execution_count": 14,
   "id": "639ec4a4",
   "metadata": {
    "execution": {
     "iopub.execute_input": "2025-05-31T11:23:34.155868Z",
     "iopub.status.busy": "2025-05-31T11:23:34.155496Z",
     "iopub.status.idle": "2025-05-31T12:13:09.764337Z",
     "shell.execute_reply": "2025-05-31T12:13:09.763224Z"
    },
    "papermill": {
     "duration": 2975.617316,
     "end_time": "2025-05-31T12:13:09.768801",
     "exception": false,
     "start_time": "2025-05-31T11:23:34.151485",
     "status": "completed"
    },
    "tags": []
   },
   "outputs": [
    {
     "name": "stdout",
     "output_type": "stream",
     "text": [
      "Epoch [1/20]\n",
      "  Train Loss     : 0.4891\n",
      "  Train Accuracy : 74.74%\n",
      "  Dev Loss       : 0.4554\n",
      "  Dev Accuracy   : 77.72%\n",
      "Epoch [2/20]\n",
      "  Train Loss     : 0.4429\n",
      "  Train Accuracy : 78.18%\n",
      "  Dev Loss       : 0.4461\n",
      "  Dev Accuracy   : 78.12%\n",
      "Epoch [3/20]\n",
      "  Train Loss     : 0.4171\n",
      "  Train Accuracy : 79.83%\n",
      "  Dev Loss       : 0.4517\n",
      "  Dev Accuracy   : 78.31%\n",
      "Epoch [4/20]\n",
      "  Train Loss     : 0.3875\n",
      "  Train Accuracy : 81.65%\n",
      "  Dev Loss       : 0.4565\n",
      "  Dev Accuracy   : 76.72%\n",
      "Epoch [5/20]\n",
      "  Train Loss     : 0.3521\n",
      "  Train Accuracy : 83.71%\n",
      "  Dev Loss       : 0.4708\n",
      "  Dev Accuracy   : 77.41%\n",
      "Epoch [6/20]\n",
      "  Train Loss     : 0.3167\n",
      "  Train Accuracy : 85.63%\n",
      "  Dev Loss       : 0.5335\n",
      "  Dev Accuracy   : 77.23%\n",
      "Epoch [7/20]\n",
      "  Train Loss     : 0.2881\n",
      "  Train Accuracy : 87.05%\n",
      "  Dev Loss       : 0.5565\n",
      "  Dev Accuracy   : 77.42%\n",
      "Epoch [8/20]\n",
      "  Train Loss     : 0.2694\n",
      "  Train Accuracy : 87.97%\n",
      "  Dev Loss       : 0.5430\n",
      "  Dev Accuracy   : 76.59%\n",
      "Early stopping\n",
      "Training done\n"
     ]
    }
   ],
   "source": [
    "train_losses = []\n",
    "dev_losses = []\n",
    "train_accuracies = []\n",
    "dev_accuracies = []\n",
    "\n",
    "best_accuracy = 0.0\n",
    "patience = 5\n",
    "epochs_no_improve = 0\n",
    "best_model_path = \"best_model.pt\"\n",
    "\n",
    "for epoch in range(epochs):\n",
    "    model.train()\n",
    "    running_loss = 0.0\n",
    "    n_correct_train = 0\n",
    "    n_samples_train = 0\n",
    "\n",
    "    for input_ids, labels in train_loader:\n",
    "        input_ids = input_ids.to(device)\n",
    "        labels = labels.float().to(device) \n",
    "\n",
    "        outputs = model(input_ids).squeeze()  \n",
    "        loss = criterion(outputs, labels)\n",
    "\n",
    "        optimizer.zero_grad()\n",
    "        loss.backward()\n",
    "        optimizer.step()\n",
    "\n",
    "        running_loss += loss.item()\n",
    "\n",
    "        predicted = (outputs > 0.5).long()  \n",
    "        n_correct_train += (predicted == labels.long()).sum().item()\n",
    "        n_samples_train += labels.size(0)\n",
    "\n",
    "    train_loss = running_loss / len(train_loader)\n",
    "    train_acc = 100.0 * n_correct_train / n_samples_train\n",
    "\n",
    "    model.eval()\n",
    "    dev_loss = 0.0\n",
    "    n_correct = 0\n",
    "    n_samples = 0\n",
    "\n",
    "    with torch.no_grad():\n",
    "        for input_ids, labels in dev_loader:\n",
    "            input_ids = input_ids.to(device)\n",
    "            labels = labels.float().to(device)\n",
    "\n",
    "            outputs = model(input_ids).squeeze()\n",
    "            loss = criterion(outputs, labels)\n",
    "            dev_loss += loss.item()\n",
    "\n",
    "            predicted = (outputs > 0.5).long()\n",
    "            n_correct += (predicted == labels.long()).sum().item()\n",
    "            n_samples += labels.size(0)\n",
    "\n",
    "    dev_loss = dev_loss / len(dev_loader)\n",
    "    dev_acc = 100.0 * n_correct / n_samples\n",
    "\n",
    "    print(f\"Epoch [{epoch+1}/{epochs}]\")\n",
    "    print(f\"  Train Loss     : {train_loss:.4f}\")\n",
    "    print(f\"  Train Accuracy : {train_acc:.2f}%\")\n",
    "    print(f\"  Dev Loss       : {dev_loss:.4f}\")\n",
    "    print(f\"  Dev Accuracy   : {dev_acc:.2f}%\")\n",
    "\n",
    "    train_losses.append(train_loss)\n",
    "    dev_losses.append(dev_loss)\n",
    "    train_accuracies.append(train_acc)\n",
    "    dev_accuracies.append(dev_acc)\n",
    "\n",
    "    if dev_acc > best_accuracy:\n",
    "        best_accuracy = dev_acc\n",
    "        epochs_no_improve = 0\n",
    "        torch.save(model.state_dict(), best_model_path)\n",
    "    else:\n",
    "        epochs_no_improve += 1\n",
    "\n",
    "    if epochs_no_improve >= patience:\n",
    "        print(\"Early stopping\")\n",
    "        break\n",
    "\n",
    "print(\"Training done\")"
   ]
  },
  {
   "cell_type": "code",
   "execution_count": 15,
   "id": "9f9b1595",
   "metadata": {
    "execution": {
     "iopub.execute_input": "2025-05-31T12:13:09.778553Z",
     "iopub.status.busy": "2025-05-31T12:13:09.777782Z",
     "iopub.status.idle": "2025-05-31T12:13:13.641235Z",
     "shell.execute_reply": "2025-05-31T12:13:13.640108Z"
    },
    "papermill": {
     "duration": 3.869494,
     "end_time": "2025-05-31T12:13:13.642398",
     "exception": false,
     "start_time": "2025-05-31T12:13:09.772904",
     "status": "completed"
    },
    "tags": []
   },
   "outputs": [
    {
     "name": "stdout",
     "output_type": "stream",
     "text": [
      "Test Evaluation\n",
      "  Test Loss     : 0.4518\n",
      "  Test Accuracy : 78.43%\n",
      "              precision    recall  f1-score   support\n",
      "\n",
      "         0.0       0.75      0.84      0.80     79807\n",
      "         1.0       0.82      0.72      0.77     80193\n",
      "\n",
      "    accuracy                           0.78    160000\n",
      "   macro avg       0.79      0.78      0.78    160000\n",
      "weighted avg       0.79      0.78      0.78    160000\n",
      "\n"
     ]
    }
   ],
   "source": [
    "model.load_state_dict(torch.load(best_model_path))\n",
    "model.eval()\n",
    "\n",
    "test_loss = 0.0\n",
    "n_correct_test = 0\n",
    "n_samples_test = 0\n",
    "all_labels = []\n",
    "all_preds = []\n",
    "\n",
    "with torch.no_grad():\n",
    "    for input_ids, labels in test_loader:\n",
    "        input_ids = input_ids.to(device)\n",
    "        labels = labels.float().to(device)\n",
    "\n",
    "        outputs = model(input_ids).squeeze()\n",
    "        loss = criterion(outputs, labels)\n",
    "        test_loss += loss.item()\n",
    "\n",
    "        predicted = (outputs > 0.5).long()\n",
    "        n_correct_test += (predicted == labels.long()).sum().item()\n",
    "        n_samples_test += labels.size(0)\n",
    "\n",
    "        all_labels.extend(labels.cpu().numpy())\n",
    "        all_preds.extend(predicted.cpu().numpy())\n",
    "\n",
    "test_loss = test_loss / len(test_loader)\n",
    "test_acc = 100.0 * n_correct_test / n_samples_test\n",
    "\n",
    "print(\"Test Evaluation\")\n",
    "print(f\"  Test Loss     : {test_loss:.4f}\")\n",
    "print(f\"  Test Accuracy : {test_acc:.2f}%\")\n",
    "\n",
    "print(classification_report(all_labels, all_preds))\n"
   ]
  },
  {
   "cell_type": "code",
   "execution_count": 16,
   "id": "c4caca73",
   "metadata": {
    "execution": {
     "iopub.execute_input": "2025-05-31T12:13:13.651400Z",
     "iopub.status.busy": "2025-05-31T12:13:13.651143Z",
     "iopub.status.idle": "2025-05-31T12:13:14.141846Z",
     "shell.execute_reply": "2025-05-31T12:13:14.141075Z"
    },
    "papermill": {
     "duration": 0.497191,
     "end_time": "2025-05-31T12:13:14.143636",
     "exception": false,
     "start_time": "2025-05-31T12:13:13.646445",
     "status": "completed"
    },
    "tags": []
   },
   "outputs": [
    {
     "data": {
      "image/png": "[encoded data removed]",
      "text/plain": [
       "<Figure size 1200x600 with 2 Axes>"
      ]
     },
     "metadata": {},
     "output_type": "display_data"
    }
   ],
   "source": [
    "import matplotlib.pyplot as plt\n",
    "import seaborn as sns\n",
    "\n",
    "epochs_range = list(range(1, len(train_losses) + 1))\n",
    "\n",
    "sns.set(style=\"whitegrid\")\n",
    "fig, ax1 = plt.subplots(figsize=(12, 6))\n",
    "\n",
    "ax1.set_xlabel(\"Epoch\")\n",
    "ax1.set_ylabel(\"Accuracy (%)\", color=\"tab:blue\")\n",
    "ax1.plot(epochs_range, train_accuracies, label=\"Train Accuracy\", color=\"blue\")\n",
    "ax1.plot(epochs_range, dev_accuracies, label=\"Dev Accuracy\", color=\"blue\", linestyle='--')\n",
    "ax1.tick_params(axis='y', labelcolor=\"tab:blue\")\n",
    "ax1.legend(loc=\"lower left\")\n",
    "\n",
    "ax2 = ax1.twinx()\n",
    "ax2.set_ylabel(\"Loss\", color=\"tab:red\")\n",
    "ax2.plot(epochs_range, train_losses, label=\"Train Loss\", color=\"red\")\n",
    "ax2.plot(epochs_range, dev_losses, label=\"Dev Loss\", color=\"red\", linestyle='--')\n",
    "ax2.tick_params(axis='y', labelcolor=\"tab:red\")\n",
    "ax2.legend(loc=\"upper right\")\n",
    "\n",
    "plt.title(\"Accuracy and Loss per Epoch\")\n",
    "plt.tight_layout()\n",
    "plt.show()"
   ]
  }
 ],
 "metadata": {
  "kaggle": {
   "accelerator": "gpu",
   "dataSources": [
    {
     "datasetId": 2477,
     "sourceId": 4140,
     "sourceType": "datasetVersion"
    }
   ],
   "isGpuEnabled": true,
   "isInternetEnabled": false,
   "language": "python",
   "sourceType": "notebook"
  },
  "kernelspec": {
   "display_name": "Python 3",
   "language": "python",
   "name": "python3"
  },
  "language_info": {
   "codemirror_mode": {
    "name": "ipython",
    "version": 3
   },
   "file_extension": ".py",
   "mimetype": "text/x-python",
   "name": "python",
   "nbconvert_exporter": "python",
   "pygments_lexer": "ipython3",
   "version": "3.11.11"
  },
  "papermill": {
   "default_parameters": {},
   "duration": 4633.645536,
   "end_time": "2025-05-31T12:13:17.272702",
   "environment_variables": {},
   "exception": null,
   "input_path": "__notebook__.ipynb",
   "output_path": "__notebook__.ipynb",
   "parameters": {},
   "start_time": "2025-05-31T10:56:03.627166",
   "version": "2.6.0"
  }
 },
 "nbformat": 4,
 "nbformat_minor": 5
}
